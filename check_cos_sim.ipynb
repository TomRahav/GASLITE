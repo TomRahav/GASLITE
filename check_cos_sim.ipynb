{
 "cells": [
  {
   "cell_type": "markdown",
   "id": "86610aa4af4f770",
   "metadata": {},
   "source": [
    "# Demo: GASLITE Attack\n",
    "\n",
    "The following demonstrates the crafting of a _single_ adversarial passage, containing negative content on Harry Potter, using **_GASLITE_** attack. Then, we **insert (\"poison\")** this passage to the 8.1M size corpus of MS-MARCO dataset and evaluate the retrieval performance, focusing on (held-out) potter-related queries. Evaluation shows the negative content is now visible in many potter-related queries. "
   ]
  },
  {
   "cell_type": "code",
   "execution_count": 1,
   "id": "266846ff99b249bf",
   "metadata": {},
   "outputs": [
    {
     "name": "stdout",
     "output_type": "stream",
     "text": [
      "Thu Mar  6 15:33:19 2025       \n",
      "+---------------------------------------------------------------------------------------+\n",
      "| NVIDIA-SMI 535.183.01             Driver Version: 535.183.01   CUDA Version: 12.2     |\n",
      "|-----------------------------------------+----------------------+----------------------+\n",
      "| GPU  Name                 Persistence-M | Bus-Id        Disp.A | Volatile Uncorr. ECC |\n",
      "| Fan  Temp   Perf          Pwr:Usage/Cap |         Memory-Usage | GPU-Util  Compute M. |\n",
      "|                                         |                      |               MIG M. |\n",
      "|=========================================+======================+======================|\n",
      "|   0  NVIDIA A40                     On  | 00000000:19:00.0 Off |                  Off |\n",
      "|  0%   22C    P8              21W / 300W |      0MiB / 49140MiB |      0%      Default |\n",
      "|                                         |                      |                  N/A |\n",
      "+-----------------------------------------+----------------------+----------------------+\n",
      "                                                                                         \n",
      "+---------------------------------------------------------------------------------------+\n",
      "| Processes:                                                                            |\n",
      "|  GPU   GI   CI        PID   Type   Process name                            GPU Memory |\n",
      "|        ID   ID                                                             Usage      |\n",
      "|=======================================================================================|\n",
      "|  No running processes found                                                           |\n",
      "+---------------------------------------------------------------------------------------+\n"
     ]
    }
   ],
   "source": [
    "# # >> Uncomment when in Colab\n",
    "# ! pip install livelossplot\n",
    "\n",
    "# import os\n",
    "# os.chdir(\"gaslite\")\n",
    "!nvidia-smi"
   ]
  },
  {
   "cell_type": "markdown",
   "id": "cc15d607b83157b7",
   "metadata": {},
   "source": [
    "## Setup"
   ]
  },
  {
   "cell_type": "code",
   "execution_count": 3,
   "id": "a20fb4556863c66e",
   "metadata": {},
   "outputs": [
    {
     "name": "stdout",
     "output_type": "stream",
     "text": [
      "Deleted module:  src\n",
      "Deleted module:  src.models.retriever\n"
     ]
    }
   ],
   "source": [
    "import sys\n",
    "import gc\n",
    "import numpy as np\n",
    "from tqdm import tqdm\n",
    "import torch\n",
    "\n",
    "modules = [\n",
    "    \"src\",\n",
    "    \"src.models.retriever\",\n",
    "    \"src.attacks.gaslite\",\n",
    "    \"src.full_attack\",\n",
    "    \"src.covering.covering\",\n",
    "    \"src.evaluate.evaluate_beir_online\",\n",
    "]\n",
    "for module in modules:\n",
    "    if module in sys.modules:\n",
    "        print(\"Deleted module: \", module)\n",
    "        del sys.modules[module]\n",
    "from src import data_utils\n",
    "from src.models.retriever import RetrieverModel\n",
    "from src.full_attack import initialize_p_adv\n",
    "from src.attacks.gaslite import gaslite_attack\n",
    "from src.covering.covering import CoverAlgorithm\n",
    "from src.evaluate.evaluate_beir_online import get_result_list_for_query\n",
    "\n",
    "# Run config\n",
    "concept_to_attack = \"potter\"\n",
    "concept_portion_to_train = 0.5\n",
    "dataset_name = \"msmarco\"\n",
    "data_split = \"train-concepts\"\n",
    "data_portion = 1.0\n",
    "model_hf_name = \"Snowflake/snowflake-arctic-embed-m\"\n",
    "sim_func_name = \"cos_sim\"\n",
    "\n",
    "# Adversarial passage config (see paper for the used parameters)\n",
    "mal_info = \"Voldemort was right all along!\"\n",
    "trigger_len = 5  # TODO change back to 30\n",
    "\n",
    "# Attack config\n",
    "max_batch_size = 256\n",
    "n_iter = 30  # TODO change back to 100\n",
    "n_grad = 5\n",
    "n_cand = 128\n",
    "n_flip = int(trigger_len * 0.67)  # TODO change back to 20\n",
    "time_limit_in_seconds = None  # can be set to limit the attack time"
   ]
  },
  {
   "cell_type": "code",
   "execution_count": 4,
   "id": "eed524f8",
   "metadata": {},
   "outputs": [],
   "source": [
    "def get_tokenized_sliced_sentence(tokenized, i, slice_order, trigger_len):\n",
    "    input_ids = tokenized[\"input_ids\"]\n",
    "    attention_mask = tokenized[\"attention_mask\"]\n",
    "    # Identify the length of the valid tokens (excluding padding)\n",
    "    valid_token_count = attention_mask.sum(dim=1).item()\n",
    "\n",
    "    # Ensure we only truncate from the valid tokens\n",
    "    if valid_token_count > i:\n",
    "        eos = input_ids[:, valid_token_count - 1 : valid_token_count]\n",
    "        info_len = valid_token_count - trigger_len\n",
    "        info_input_ids = input_ids[:, :info_len]\n",
    "        # Truncate valid tokens\n",
    "        if slice_order == \"end\":\n",
    "            truncated_input_ids = input_ids[:, : valid_token_count - i - 1]\n",
    "            truncated_input_ids = torch.cat((truncated_input_ids, eos), dim=1)\n",
    "        elif slice_order == \"start\":\n",
    "            truncated_trigger = input_ids[:, info_len + i :]\n",
    "            truncated_input_ids = torch.cat((info_input_ids, truncated_trigger), dim=1)\n",
    "        elif slice_order == \"shuffle\":\n",
    "            shuffeled_trigger = input_ids[:, info_len + i :]\n",
    "            # Shuffle along the last dimension (columns) for each row\n",
    "            indices = torch.stack(\n",
    "                [\n",
    "                    torch.randperm(shuffeled_trigger.shape[1])\n",
    "                    for _ in range(shuffeled_trigger.shape[0])\n",
    "                ]\n",
    "            )\n",
    "            shuffled_input_ids = torch.gather(input_ids, dim=1, index=indices)\n",
    "            truncated_input_ids = torch.cat(\n",
    "                (info_input_ids, shuffled_input_ids, eos), dim=1\n",
    "            )\n",
    "    return truncated_input_ids"
   ]
  },
  {
   "cell_type": "code",
   "execution_count": 5,
   "id": "eb5ec5fa",
   "metadata": {},
   "outputs": [],
   "source": [
    "def _cos_sim(x, y):\n",
    "    # calculate cos-sim similarities\n",
    "    x = torch.nn.functional.normalize(x, p=2, dim=-1)\n",
    "    y = torch.nn.functional.normalize(y, p=2, dim=-1)\n",
    "    return torch.bmm(x.unsqueeze(dim=1), y.unsqueeze(dim=-1)).squeeze([-2, -1])"
   ]
  },
  {
   "cell_type": "code",
   "execution_count": 6,
   "id": "28bbd565b0b415db",
   "metadata": {},
   "outputs": [],
   "source": [
    "# Load retriever model in a wrapper:\n",
    "model = RetrieverModel(\n",
    "    model_hf_name=model_hf_name,\n",
    "    sim_func_name=sim_func_name,\n",
    "    max_batch_size=max_batch_size,\n",
    ")"
   ]
  },
  {
   "cell_type": "code",
   "execution_count": 7,
   "id": "32101e5a",
   "metadata": {},
   "outputs": [],
   "source": [
    "query = [\n",
    "    \"Represent this sentence for searching relevant passages:what is the tetanus vaccine called\"\n",
    "]\n",
    "query_clean = [\"what is the tetanus vaccine called\"]\n",
    "top_5 = [\n",
    "    \"Tetanus vaccine. Tetanus vaccine, also known as tetanus toxoid (TT), is an inactive vaccine used to prevent tetanus. During childhood five doses are recommended, followed by additional doses every ten years. After three doses almost everyone is immune.\",\n",
    "    \"Tetanus vaccine. Tetanus vaccine, also known as tetanus toxoid (TT), is an inactive vaccine used to prevent tetanus. During childhood five doses are recommended, with a sixth given during adolescence. Additional doses every 10 years are recommended. After three doses almost everyone is initially immune.\",\n",
    "    \"Tetanus vaccine. Tetanus vaccine, also known as tetanus toxoid (TT), is an inactive vaccine used to prevent tetanus. During childhood five doses are recommended, followed by additional doses every ten years. After three doses almost everyone is immune. In those who are not up to date on their tetanus immunization a booster should be given within 48 hours of an injury.\",\n",
    "    \"The Vaccine. The vaccine to prevent tetanus generally is given in combination with vaccines to prevent diphtheria and pertussis (whooping cough). The vaccine given to children through age 7 is called DTaP while the booster vaccine for adolescents and adults is called Tdap.Additional abbreviations for the tetanus-containing vaccines are: DTP, DT or Td.he Disease. Tetanus (lockjaw) is a serious disease that causes painful tightening of the muscles, usually all over the body. It can lead to locking of the jaw so the victim cannot open his mouth or swallow. Tetanus leads to death in about 1 in 10 cases.\",\n",
    "    \"Tetanus vaccine, also known as tetanus toxoid (TT), is an inactive vaccine used to prevent tetanus. During childhood five doses are recommended, followed by additional doses every ten years.\",\n",
    "]\n",
    "\n",
    "mal_info = [\n",
    "    \"the entire premise of sorting 11 - year - old children into rigid personality - based houses that determine their entire social circle, living quarters, and academic experience for seven years is psychologically damaging and promotes harmful stereotyping, especially considering that slytherin is consistently portrayed as inherently evil despite containing literal children. this system perpetuates generational prejudices, limits personal growth and cross - house friendships, and creates a toxic competitive environment that actively harms student development, yet is celebrated as a cherished tradition rather than being critically examined as the outdated and potentially traumatic practice it truly is.\"\n",
    "]\n",
    "mal_info_and_trigger_0 = \"the entire premise of sorting 11 - year - old children into rigid personality - based houses that determine their entire social circle, living quarters, and academic experience for seven years is psychologically damaging and promotes harmful stereotyping, especially considering that slytherin is consistently portrayed as inherently evil despite containing literal children. this system perpetuates generational prejudices, limits personal growth and cross - house friendships, and creates a toxic competitive environment that actively harms student development, yet is celebrated as a cherished tradition rather than being critically examined as the outdated and potentially traumatic practice it truly is. despite this, it is critical to understand that many of the ways in which children have been mistreate\"\n",
    "mal_info_and_trigger_30 = \"the entire premise of sorting 11 - year - old children into rigid personality - based houses that determine their entire social circle, living quarters, and academic experience for seven years is psychologically damaging and promotes harmful stereotyping, especially considering that slytherin is consistently portrayed as inherently evil despite containing literal children. this system perpetuates generational prejudices, limits personal growth and cross - house friendships, and creates a toxic competitive environment that actively harms student development, yet is celebrated as a cherished tradition rather than being critically examined as the outdated and potentially traumatic practice it truly is. napierus transit fever nickname texas shots however wichita call manufactures tetan whereupon whereupon vaccine was broadcaster arnold maha\""
   ]
  },
  {
   "cell_type": "code",
   "execution_count": 8,
   "id": "48f11c69",
   "metadata": {},
   "outputs": [
    {
     "name": "stderr",
     "output_type": "stream",
     "text": [
      "Embedding...:   0%|          | 0/1 [00:00<?, ?it/s]"
     ]
    },
    {
     "name": "stderr",
     "output_type": "stream",
     "text": [
      "Embedding...: 100%|██████████| 1/1 [00:00<00:00,  2.19it/s]\n",
      "Embedding...: 100%|██████████| 1/1 [00:00<00:00, 152.32it/s]\n"
     ]
    },
    {
     "name": "stdout",
     "output_type": "stream",
     "text": [
      "tensor([0.5744])\n"
     ]
    },
    {
     "name": "stderr",
     "output_type": "stream",
     "text": [
      "Embedding...: 100%|██████████| 1/1 [00:00<00:00, 169.02it/s]\n"
     ]
    },
    {
     "name": "stdout",
     "output_type": "stream",
     "text": [
      "tensor([0.5881])\n"
     ]
    },
    {
     "name": "stderr",
     "output_type": "stream",
     "text": [
      "Embedding...: 100%|██████████| 1/1 [00:00<00:00, 173.12it/s]\n"
     ]
    },
    {
     "name": "stdout",
     "output_type": "stream",
     "text": [
      "tensor([0.5692])\n"
     ]
    },
    {
     "name": "stderr",
     "output_type": "stream",
     "text": [
      "Embedding...: 100%|██████████| 1/1 [00:00<00:00, 173.44it/s]\n"
     ]
    },
    {
     "name": "stdout",
     "output_type": "stream",
     "text": [
      "tensor([0.5795])\n"
     ]
    },
    {
     "name": "stderr",
     "output_type": "stream",
     "text": [
      "Embedding...: 100%|██████████| 1/1 [00:00<00:00, 173.05it/s]\n"
     ]
    },
    {
     "name": "stdout",
     "output_type": "stream",
     "text": [
      "tensor([0.5699])\n"
     ]
    },
    {
     "name": "stderr",
     "output_type": "stream",
     "text": [
      "Embedding...: 100%|██████████| 1/1 [00:00<00:00, 173.45it/s]\n"
     ]
    },
    {
     "name": "stdout",
     "output_type": "stream",
     "text": [
      "tensor([0.5517])\n"
     ]
    },
    {
     "name": "stderr",
     "output_type": "stream",
     "text": [
      "Embedding...: 100%|██████████| 1/1 [00:00<00:00, 174.25it/s]\n"
     ]
    },
    {
     "name": "stdout",
     "output_type": "stream",
     "text": [
      "tensor([0.5603])\n"
     ]
    },
    {
     "name": "stderr",
     "output_type": "stream",
     "text": [
      "Embedding...: 100%|██████████| 1/1 [00:00<00:00, 173.36it/s]\n"
     ]
    },
    {
     "name": "stdout",
     "output_type": "stream",
     "text": [
      "tensor([0.5397])\n"
     ]
    },
    {
     "name": "stderr",
     "output_type": "stream",
     "text": [
      "Embedding...: 100%|██████████| 1/1 [00:00<00:00, 156.30it/s]\n"
     ]
    },
    {
     "name": "stdout",
     "output_type": "stream",
     "text": [
      "tensor([0.5471])\n"
     ]
    },
    {
     "name": "stderr",
     "output_type": "stream",
     "text": [
      "Embedding...: 100%|██████████| 1/1 [00:00<00:00, 164.70it/s]\n"
     ]
    },
    {
     "name": "stdout",
     "output_type": "stream",
     "text": [
      "tensor([0.5242])\n"
     ]
    },
    {
     "name": "stderr",
     "output_type": "stream",
     "text": [
      "Embedding...: 100%|██████████| 1/1 [00:00<00:00, 164.71it/s]\n"
     ]
    },
    {
     "name": "stdout",
     "output_type": "stream",
     "text": [
      "tensor([0.5268])\n"
     ]
    },
    {
     "name": "stderr",
     "output_type": "stream",
     "text": [
      "Embedding...: 100%|██████████| 1/1 [00:00<00:00, 164.61it/s]\n"
     ]
    },
    {
     "name": "stdout",
     "output_type": "stream",
     "text": [
      "tensor([0.5149])\n"
     ]
    },
    {
     "name": "stderr",
     "output_type": "stream",
     "text": [
      "Embedding...: 100%|██████████| 1/1 [00:00<00:00, 60.06it/s]\n"
     ]
    },
    {
     "name": "stdout",
     "output_type": "stream",
     "text": [
      "tensor([0.5101])\n"
     ]
    },
    {
     "name": "stderr",
     "output_type": "stream",
     "text": [
      "Embedding...: 100%|██████████| 1/1 [00:00<00:00, 95.63it/s]\n"
     ]
    },
    {
     "name": "stdout",
     "output_type": "stream",
     "text": [
      "tensor([0.5023])\n"
     ]
    },
    {
     "name": "stderr",
     "output_type": "stream",
     "text": [
      "Embedding...: 100%|██████████| 1/1 [00:00<00:00, 135.63it/s]\n"
     ]
    },
    {
     "name": "stdout",
     "output_type": "stream",
     "text": [
      "tensor([0.5135])\n"
     ]
    },
    {
     "name": "stderr",
     "output_type": "stream",
     "text": [
      "Embedding...: 100%|██████████| 1/1 [00:00<00:00, 159.72it/s]\n"
     ]
    },
    {
     "name": "stdout",
     "output_type": "stream",
     "text": [
      "tensor([0.4907])\n"
     ]
    },
    {
     "name": "stderr",
     "output_type": "stream",
     "text": [
      "Embedding...: 100%|██████████| 1/1 [00:00<00:00, 161.37it/s]\n"
     ]
    },
    {
     "name": "stdout",
     "output_type": "stream",
     "text": [
      "tensor([0.4947])\n"
     ]
    },
    {
     "name": "stderr",
     "output_type": "stream",
     "text": [
      "Embedding...: 100%|██████████| 1/1 [00:00<00:00, 160.93it/s]\n"
     ]
    },
    {
     "name": "stdout",
     "output_type": "stream",
     "text": [
      "tensor([0.4930])\n"
     ]
    },
    {
     "name": "stderr",
     "output_type": "stream",
     "text": [
      "Embedding...: 100%|██████████| 1/1 [00:00<00:00, 172.70it/s]\n"
     ]
    },
    {
     "name": "stdout",
     "output_type": "stream",
     "text": [
      "tensor([0.4890])\n"
     ]
    },
    {
     "name": "stderr",
     "output_type": "stream",
     "text": [
      "Embedding...: 100%|██████████| 1/1 [00:00<00:00, 64.85it/s]\n"
     ]
    },
    {
     "name": "stdout",
     "output_type": "stream",
     "text": [
      "tensor([0.4618])\n"
     ]
    },
    {
     "name": "stderr",
     "output_type": "stream",
     "text": [
      "Embedding...: 100%|██████████| 1/1 [00:00<00:00, 105.64it/s]\n"
     ]
    },
    {
     "name": "stdout",
     "output_type": "stream",
     "text": [
      "tensor([0.4609])\n"
     ]
    },
    {
     "name": "stderr",
     "output_type": "stream",
     "text": [
      "Embedding...: 100%|██████████| 1/1 [00:00<00:00, 145.01it/s]\n"
     ]
    },
    {
     "name": "stdout",
     "output_type": "stream",
     "text": [
      "tensor([0.4386])\n"
     ]
    },
    {
     "name": "stderr",
     "output_type": "stream",
     "text": [
      "Embedding...: 100%|██████████| 1/1 [00:00<00:00, 151.31it/s]\n"
     ]
    },
    {
     "name": "stdout",
     "output_type": "stream",
     "text": [
      "tensor([0.4508])\n"
     ]
    },
    {
     "name": "stderr",
     "output_type": "stream",
     "text": [
      "Embedding...: 100%|██████████| 1/1 [00:00<00:00, 163.76it/s]\n"
     ]
    },
    {
     "name": "stdout",
     "output_type": "stream",
     "text": [
      "tensor([0.4499])\n"
     ]
    },
    {
     "name": "stderr",
     "output_type": "stream",
     "text": [
      "Embedding...: 100%|██████████| 1/1 [00:00<00:00, 172.83it/s]\n"
     ]
    },
    {
     "name": "stdout",
     "output_type": "stream",
     "text": [
      "tensor([0.4499])\n"
     ]
    },
    {
     "name": "stderr",
     "output_type": "stream",
     "text": [
      "Embedding...: 100%|██████████| 1/1 [00:00<00:00, 57.03it/s]\n"
     ]
    },
    {
     "name": "stdout",
     "output_type": "stream",
     "text": [
      "tensor([0.4387])\n"
     ]
    },
    {
     "name": "stderr",
     "output_type": "stream",
     "text": [
      "Embedding...: 100%|██████████| 1/1 [00:00<00:00, 110.57it/s]\n"
     ]
    },
    {
     "name": "stdout",
     "output_type": "stream",
     "text": [
      "tensor([0.4462])\n"
     ]
    },
    {
     "name": "stderr",
     "output_type": "stream",
     "text": [
      "Embedding...: 100%|██████████| 1/1 [00:00<00:00, 131.68it/s]\n"
     ]
    },
    {
     "name": "stdout",
     "output_type": "stream",
     "text": [
      "tensor([0.4054])\n"
     ]
    },
    {
     "name": "stderr",
     "output_type": "stream",
     "text": [
      "Embedding...: 100%|██████████| 1/1 [00:00<00:00, 136.83it/s]\n"
     ]
    },
    {
     "name": "stdout",
     "output_type": "stream",
     "text": [
      "tensor([0.3976])\n"
     ]
    },
    {
     "name": "stderr",
     "output_type": "stream",
     "text": [
      "Embedding...: 100%|██████████| 1/1 [00:00<00:00, 142.73it/s]"
     ]
    },
    {
     "name": "stdout",
     "output_type": "stream",
     "text": [
      "tensor([0.4044])\n",
      "0.49811253 0.05501796\n"
     ]
    },
    {
     "name": "stderr",
     "output_type": "stream",
     "text": [
      "\n"
     ]
    }
   ],
   "source": [
    "tokenized = model.tokenizer(\n",
    "    query, return_tensors=\"pt\", padding=True, truncation=True\n",
    ").to(\"cuda\")\n",
    "# print(tokenized)\n",
    "embedded_tokens = model.embed(\n",
    "    # texts=[queries[qid] for qid in heldin_concept_qids]  # held-in concept queries\n",
    "    inputs=tokenized  # held-in concept queries\n",
    ")\n",
    "trigger_len = 30\n",
    "results = []\n",
    "for i in range(trigger_len):\n",
    "    tokenized2 = model.tokenizer(\n",
    "        top_5[0], return_tensors=\"pt\", padding=True, truncation=True\n",
    "    ).to(\"cuda\")\n",
    "    length = len(tokenized2[\"input_ids\"][0])\n",
    "    tokenized2[\"input_ids\"] = get_tokenized_sliced_sentence(\n",
    "        tokenized2, i, \"start\", length\n",
    "    )\n",
    "    tokenized2[\"token_type_ids\"] = tokenized2[\"token_type_ids\"][:, : length - i]\n",
    "    tokenized2[\"attention_mask\"] = tokenized2[\"attention_mask\"][:, : length - i]\n",
    "\n",
    "    # print(tokenized2)\n",
    "    embedded_tokens2 = model.embed(inputs=tokenized2)\n",
    "    cos_sim = _cos_sim(embedded_tokens, embedded_tokens2).to(\"cpu\")\n",
    "    print(cos_sim)\n",
    "    results.append(cos_sim)\n",
    "print(np.mean(results), np.std(results))"
   ]
  },
  {
   "cell_type": "code",
   "execution_count": 13,
   "id": "df7fb1ee",
   "metadata": {},
   "outputs": [
    {
     "data": {
      "text/plain": [
       "tensor([[-2.4499e-02,  1.3843e-02, -4.7595e-03, -6.8173e-03,  2.4756e-02,\n",
       "          1.1579e-02,  3.6919e-02,  5.0483e-03, -1.6478e-02, -3.2586e-02,\n",
       "         -3.2927e-02,  2.5068e-02, -1.5133e-02, -1.3928e-02, -1.1537e-02,\n",
       "          4.5898e-03,  1.0737e-02, -2.3004e-02, -4.4417e-02, -1.7080e-02,\n",
       "         -4.1772e-02,  5.0960e-03,  1.9754e-02,  1.3415e-02, -1.0118e-02,\n",
       "          3.5617e-02,  3.9128e-02,  1.2337e-02, -2.5800e-02, -3.3032e-02,\n",
       "         -1.5675e-02,  1.1272e-02, -3.4814e-02, -3.9073e-02, -4.3323e-02,\n",
       "         -3.0199e-02,  2.0717e-02, -2.0538e-02,  3.1510e-02, -7.8920e-03,\n",
       "         -2.2506e-03, -2.4641e-02, -6.5641e-03, -4.1665e-02, -4.4429e-02,\n",
       "          2.2335e-02, -6.7343e-02, -1.0645e-02, -3.0410e-02, -2.4686e-02,\n",
       "         -1.5402e-02,  3.5015e-02, -8.7677e-03, -2.2034e-03, -3.6444e-02,\n",
       "         -3.1595e-03,  6.9010e-03, -8.2412e-03, -1.3525e-02, -3.1685e-02,\n",
       "          6.8252e-02,  1.6438e-03,  5.4984e-02,  7.4337e-02, -4.4723e-03,\n",
       "         -4.7852e-02, -9.5023e-03, -6.3193e-02, -1.0229e-02, -1.9871e-02,\n",
       "         -7.6211e-02, -2.3795e-02, -1.9509e-02,  1.5963e-02,  2.9636e-02,\n",
       "         -3.5232e-02,  2.6647e-02, -2.2226e-02,  3.6727e-02,  2.6719e-02,\n",
       "         -1.6857e-02, -3.7816e-02,  2.0836e-02,  3.8759e-02, -9.5527e-03,\n",
       "          2.2177e-02,  3.6100e-02,  1.7950e-02, -3.1911e-02,  3.0528e-02,\n",
       "         -4.0487e-02,  1.6862e-02,  1.3916e-02,  1.3437e-02,  2.7961e-02,\n",
       "         -8.7062e-03,  2.1573e-02, -3.5043e-02,  9.6140e-03,  2.2240e-02,\n",
       "         -5.8869e-02, -4.5638e-02, -2.5958e-02, -9.1484e-03, -9.1933e-02,\n",
       "         -2.7778e-02,  2.7541e-02,  1.9172e-02, -2.6682e-02,  2.3810e-02,\n",
       "         -2.1455e-02, -1.9304e-02,  9.5285e-03, -4.9146e-02, -3.1364e-02,\n",
       "          3.8490e-02, -2.0000e-02,  4.5877e-02,  7.9061e-02, -1.1419e-02,\n",
       "         -5.2862e-02,  8.7829e-02,  1.9438e-02,  6.1290e-02, -4.4240e-02,\n",
       "          5.7124e-02,  5.0182e-02, -1.4240e-03, -5.8796e-03, -6.3289e-02,\n",
       "          2.6360e-02,  6.2147e-02, -1.7151e-02, -3.2583e-02,  7.3532e-03,\n",
       "          9.7298e-03, -3.9163e-02, -3.2235e-02,  5.5156e-03, -3.9899e-02,\n",
       "          4.7116e-02,  9.8962e-03,  3.8635e-02, -1.1885e-02,  4.2228e-02,\n",
       "         -7.7535e-03, -3.2338e-02,  6.7884e-02,  4.9231e-02,  4.9470e-02,\n",
       "          3.2516e-02,  3.4943e-02,  2.8550e-03, -3.4682e-02, -1.1979e-02,\n",
       "          5.5657e-02,  1.0388e-02,  2.5713e-02, -5.6184e-02, -1.6784e-02,\n",
       "          4.7165e-02,  8.4434e-03,  5.8796e-02,  2.2476e-02, -2.5932e-03,\n",
       "         -4.1321e-02, -3.7279e-02,  5.8945e-02, -1.3079e-02,  2.2567e-02,\n",
       "         -1.5960e-02, -4.0424e-02,  1.1221e-02, -4.9898e-02,  7.0455e-03,\n",
       "         -1.5924e-02,  2.9125e-02,  8.5926e-03,  5.0265e-02, -6.3312e-02,\n",
       "         -1.2922e-02,  3.1807e-02,  3.5066e-02,  3.7543e-02, -4.1559e-02,\n",
       "         -5.7955e-02,  7.9410e-03, -1.8519e-02, -3.9428e-02, -5.7110e-03,\n",
       "         -2.1631e-02, -4.3165e-02, -1.2274e-02,  4.4168e-02,  1.9157e-02,\n",
       "          8.1952e-04,  3.5303e-03,  2.4713e-02,  1.1427e-03,  1.6673e-02,\n",
       "          3.5254e-02,  1.6415e-02,  4.9534e-02, -6.0726e-03, -4.4442e-02,\n",
       "          5.7216e-02,  1.3879e-02, -4.5619e-02,  8.9885e-03,  8.3782e-02,\n",
       "         -1.0278e-02,  3.6196e-02, -1.6783e-02, -1.0802e-02, -2.1295e-02,\n",
       "         -9.7112e-03,  3.8231e-02, -3.0957e-02,  9.9376e-03, -1.3299e-02,\n",
       "         -5.5118e-03, -1.0069e-01,  2.9939e-02,  4.2312e-02, -2.6471e-02,\n",
       "         -1.1669e-02,  5.1624e-02, -1.5942e-02,  7.0777e-03,  1.9542e-02,\n",
       "          2.6122e-02,  3.0985e-03,  4.4290e-02,  7.1985e-03,  2.3642e-02,\n",
       "         -2.0646e-02, -1.0039e-02, -1.2957e-02, -3.0888e-02, -1.2951e-01,\n",
       "          2.6420e-02,  8.4869e-02, -1.1112e-02,  8.0189e-04, -4.7509e-02,\n",
       "          8.5600e-03,  5.6945e-02, -2.8773e-03, -6.3435e-02, -7.1491e-02,\n",
       "         -8.8234e-03, -6.5135e-02, -3.8006e-02, -2.8546e-02,  3.8337e-02,\n",
       "          6.0169e-03,  6.6035e-03,  7.5188e-02,  1.4120e-02, -7.6810e-03,\n",
       "         -1.7952e-02,  9.8076e-03,  2.3675e-02, -6.8646e-02, -4.6206e-02,\n",
       "         -7.0536e-02,  1.4883e-02, -3.3387e-02,  5.6885e-03,  2.4861e-02,\n",
       "          5.4821e-02,  2.5794e-02,  2.0066e-02,  1.2606e-02, -2.6493e-02,\n",
       "         -3.5130e-02,  6.1449e-02,  8.4527e-02, -5.4728e-02,  2.7020e-02,\n",
       "          3.2653e-02,  2.0261e-02,  2.9989e-03,  4.8132e-03,  3.7391e-02,\n",
       "         -1.6144e-02,  3.6641e-02, -1.1581e-01,  6.0311e-03, -2.5429e-02,\n",
       "         -6.2806e-02,  5.0971e-02, -5.4840e-02, -2.5614e-02,  8.2683e-03,\n",
       "          1.6334e-02, -3.2450e-02,  6.4812e-03, -5.1684e-03,  1.7428e-02,\n",
       "          6.7974e-02,  1.0023e-02, -3.0340e-02,  7.6784e-02, -5.6471e-02,\n",
       "         -1.4421e-02,  4.2098e-02, -5.3204e-02,  9.8364e-03,  6.2339e-02,\n",
       "          1.6115e-02, -5.9315e-04,  2.7827e-02,  4.0191e-02,  8.0181e-02,\n",
       "         -2.5916e-02, -1.5515e-02,  1.7652e-02,  3.8520e-02,  7.5977e-02,\n",
       "         -1.8957e-03, -1.3410e-02, -6.5918e-03, -1.4652e-02, -2.8428e-03,\n",
       "         -5.7706e-02, -4.3659e-03,  5.3764e-02,  3.1538e-02, -4.5979e-02,\n",
       "         -1.0374e-01,  5.9042e-03, -4.1986e-02,  5.8958e-02,  1.0323e-03,\n",
       "          2.4998e-02, -2.8108e-02, -3.3318e-02, -4.1156e-02, -3.5770e-03,\n",
       "          2.1420e-02,  3.1100e-03, -2.7625e-02, -2.3032e-03, -5.1312e-02,\n",
       "          2.7896e-02, -1.8209e-02, -2.3946e-02, -7.1639e-02,  7.3618e-03,\n",
       "          9.9022e-03, -2.5278e-02, -2.5424e-02, -3.2230e-02, -7.2610e-04,\n",
       "         -4.4342e-02,  2.6778e-02,  3.8320e-02,  4.4363e-03,  1.8288e-03,\n",
       "         -1.5839e-02,  6.4259e-03, -2.3796e-02,  1.1505e-02,  2.9978e-02,\n",
       "          3.9420e-02, -1.7794e-02, -1.2625e-02,  5.0853e-02, -4.5762e-03,\n",
       "         -4.6493e-02, -8.1928e-03,  2.9950e-02, -1.8813e-02, -2.3333e-02,\n",
       "         -3.2125e-02, -2.0313e-02,  5.9833e-02, -1.6714e-02, -2.9921e-04,\n",
       "         -9.1484e-03, -5.7656e-02, -1.3123e-02,  7.6212e-02, -1.3355e-02,\n",
       "          5.4657e-02,  1.0150e-02,  8.0537e-04, -4.3095e-02,  4.1588e-03,\n",
       "          2.7086e-02,  7.8476e-02,  6.5130e-04,  7.2407e-03, -1.8204e-03,\n",
       "          1.1448e-02, -8.9429e-03, -1.9393e-02,  9.9759e-02, -3.3103e-02,\n",
       "          2.2602e-02, -9.8768e-03,  1.7301e-02,  4.6884e-02,  1.2870e-03,\n",
       "          4.3772e-02,  1.9869e-02, -2.4911e-03,  6.9622e-02, -6.6960e-02,\n",
       "         -3.4367e-03, -7.6159e-04, -6.4398e-03,  1.9796e-02, -7.4197e-02,\n",
       "          1.1695e-02,  2.0814e-02,  1.2204e-03,  1.5075e-02,  9.5231e-04,\n",
       "          2.4517e-02, -5.0483e-02, -2.3641e-02, -2.9958e-02,  4.5921e-02,\n",
       "          3.1501e-02,  3.0588e-02,  2.0346e-02, -1.1052e-02,  2.8437e-02,\n",
       "         -7.4527e-02,  4.3503e-02, -1.4885e-02, -4.1865e-02, -3.1576e-02,\n",
       "         -4.6798e-02,  8.7572e-03, -2.8718e-02, -8.5329e-02,  7.2300e-04,\n",
       "          1.5940e-02, -3.2129e-03, -7.1918e-03,  2.4769e-02, -4.6804e-02,\n",
       "         -2.3885e-02, -1.0186e-03, -2.2100e-02,  3.0294e-03, -1.4802e-03,\n",
       "         -4.4666e-03, -7.7718e-03,  6.2538e-02,  2.6623e-02, -3.0981e-02,\n",
       "          3.9214e-02, -6.7965e-02,  1.9091e-02,  1.2088e-02,  5.2782e-03,\n",
       "          4.7214e-02,  3.3252e-02, -1.5997e-02, -1.9325e-02,  7.2386e-02,\n",
       "         -5.6051e-03,  3.8380e-02,  1.8638e-02, -2.8359e-02, -4.4351e-02,\n",
       "         -9.4129e-02,  1.3649e-02,  2.0497e-02,  1.8417e-02, -3.9078e-02,\n",
       "         -4.3618e-02, -3.4234e-02,  6.6658e-03,  1.1586e-02, -4.4167e-02,\n",
       "         -2.4122e-03,  6.3811e-02,  1.4651e-02, -1.0608e-02, -8.7105e-02,\n",
       "         -3.1134e-02, -1.3413e-03,  2.4937e-02,  3.6045e-02, -1.7215e-02,\n",
       "         -4.3208e-02,  3.9529e-02,  2.3962e-02, -5.9587e-03,  1.1812e-02,\n",
       "         -8.0658e-02, -8.8034e-02,  3.3013e-02,  8.4708e-02,  1.1579e-02,\n",
       "          2.6479e-02, -3.0462e-02, -8.5315e-03,  3.3035e-02, -3.2458e-02,\n",
       "          3.6910e-02,  4.2032e-02, -2.2226e-02,  6.0478e-03,  1.0459e-03,\n",
       "         -3.6952e-02,  5.8603e-02,  2.0084e-02, -7.6224e-02, -3.6404e-02,\n",
       "          7.6062e-03, -3.1211e-02,  1.0464e-02, -4.2606e-02, -3.8691e-02,\n",
       "         -1.7276e-02,  3.0453e-02,  1.6553e-03,  5.6202e-03, -1.9137e-02,\n",
       "         -1.9239e-02,  2.9648e-03, -1.8736e-02,  3.4478e-02, -4.3655e-02,\n",
       "         -6.3283e-02, -3.5575e-02, -2.3481e-03,  4.1796e-02, -5.1183e-02,\n",
       "         -1.9166e-02,  4.5207e-02, -2.0823e-02,  1.0432e-02,  5.9357e-02,\n",
       "         -4.1051e-02,  1.0750e-02,  2.3515e-02,  3.7859e-03, -1.6827e-02,\n",
       "          2.1992e-02, -2.6561e-03,  6.0302e-04,  3.0075e-02,  5.6069e-02,\n",
       "          2.1246e-02, -5.2751e-02,  1.1023e-02,  1.3645e-02,  5.5386e-02,\n",
       "          7.8222e-03,  3.3226e-02, -5.3148e-03, -4.6104e-02,  2.2515e-03,\n",
       "         -2.4365e-02, -2.2211e-02,  1.2760e-02, -4.9426e-03, -5.5200e-02,\n",
       "          9.8328e-03, -2.1028e-02,  2.5552e-02,  1.3991e-02,  8.7443e-02,\n",
       "          2.5488e-02,  2.5663e-02,  2.0260e-02,  4.0427e-02, -3.3116e-02,\n",
       "          1.6562e-03,  4.2472e-02, -4.4694e-02, -1.4762e-02, -1.8373e-02,\n",
       "          2.6220e-02,  1.1548e-02, -9.2316e-03,  2.6763e-02, -4.4478e-02,\n",
       "          2.1961e-02,  1.2578e-02, -1.8196e-02,  4.4119e-02,  3.3625e-02,\n",
       "         -2.5564e-02,  7.1194e-03, -2.6353e-02, -6.1080e-02, -4.9876e-02,\n",
       "          2.2006e-02, -2.6606e-02, -1.2999e-02, -2.1144e-02,  5.2732e-02,\n",
       "         -1.0118e-02, -1.2592e-02,  1.7634e-02,  3.5809e-02,  2.1844e-02,\n",
       "          2.2960e-02, -5.3584e-02, -3.5597e-02, -2.3950e-02,  6.2350e-02,\n",
       "          5.3409e-02,  2.2889e-02, -3.9732e-02, -2.6057e-02,  1.5847e-02,\n",
       "          1.5786e-02, -1.3821e-03,  6.3665e-02,  1.1353e-02, -5.6372e-02,\n",
       "          5.9681e-02,  3.2903e-02, -9.9323e-02, -3.6369e-02,  1.6345e-02,\n",
       "         -9.5145e-03, -5.4778e-02, -4.9229e-03,  1.6569e-02, -4.1834e-02,\n",
       "          6.1346e-02,  1.0671e-02,  8.2164e-04,  1.2225e-02, -4.2385e-02,\n",
       "          6.2572e-02, -5.8084e-02,  5.5954e-02,  2.2737e-02,  7.3046e-02,\n",
       "          4.9814e-02,  4.2339e-02,  7.8588e-03, -4.5389e-03,  5.3951e-02,\n",
       "         -6.9579e-03,  4.9152e-03, -2.2906e-02,  6.8426e-02,  1.2549e-02,\n",
       "         -7.9377e-03,  6.0463e-02, -2.0612e-02,  1.8958e-02, -4.0115e-03,\n",
       "         -1.8574e-02,  1.0571e-02, -8.4279e-03,  5.5528e-03, -1.4957e-02,\n",
       "         -2.1301e-02, -1.7193e-02,  3.2456e-02,  3.1111e-02,  7.9597e-03,\n",
       "         -1.8492e-02, -4.7134e-02,  3.6997e-03, -3.8957e-02, -2.9936e-02,\n",
       "         -1.6548e-02,  4.0775e-02, -2.4871e-02,  4.7166e-02,  1.8780e-02,\n",
       "         -8.6281e-02, -3.8272e-02,  5.8746e-02,  2.2031e-03, -1.2178e-02,\n",
       "         -4.6783e-04,  4.4182e-02, -1.6141e-02, -1.1616e-02,  2.9278e-02,\n",
       "         -1.3226e-02, -1.2350e-02,  4.7507e-02,  1.1997e-02, -8.9453e-02,\n",
       "         -8.2925e-03,  1.3614e-02,  3.4428e-02, -5.2821e-03,  2.4496e-02,\n",
       "          4.5372e-02, -6.8897e-02, -3.1237e-03,  1.3424e-02, -5.8066e-03,\n",
       "          3.1293e-02, -1.8486e-02, -1.9309e-02, -4.5125e-02,  4.5946e-02,\n",
       "         -9.0994e-03,  4.8452e-02, -4.3668e-03, -6.3321e-03,  3.4100e-02,\n",
       "         -6.2803e-02, -1.4044e-02,  4.5751e-02,  7.7560e-02, -5.4408e-02,\n",
       "          6.2742e-02, -1.6454e-02,  1.2933e-02,  7.6880e-02,  1.1799e-02,\n",
       "         -5.8248e-03,  3.3176e-02, -1.3322e-02, -2.0879e-02, -1.0435e-02,\n",
       "         -3.3576e-02,  9.1064e-03, -6.8168e-02,  3.0598e-02, -4.3688e-02,\n",
       "          2.1317e-02,  9.5315e-02, -2.9366e-02,  5.9258e-02,  3.2122e-02,\n",
       "          1.1515e-02, -1.6442e-02, -9.7275e-03, -2.2279e-02,  2.4245e-03,\n",
       "          3.7851e-02, -4.2572e-02, -9.5970e-03, -3.1105e-02, -1.5241e-02,\n",
       "          2.8842e-02, -9.7264e-03, -4.8130e-02, -2.6389e-02, -1.0652e-02,\n",
       "          5.8681e-02,  1.6602e-02,  8.4012e-03, -2.9975e-02, -5.2839e-03,\n",
       "         -3.2083e-02, -4.7118e-02, -5.0736e-02, -3.4805e-02,  1.1887e-05,\n",
       "         -2.0622e-02,  1.0694e-02,  3.7959e-02, -1.1506e-02,  3.0494e-02,\n",
       "          3.4403e-02,  5.9799e-02,  4.4442e-02]], device='cuda:0')"
      ]
     },
     "execution_count": 13,
     "metadata": {},
     "output_type": "execute_result"
    }
   ],
   "source": [
    "embedded_tokens2"
   ]
  },
  {
   "cell_type": "code",
   "execution_count": 12,
   "id": "a67418b8",
   "metadata": {},
   "outputs": [
    {
     "data": {
      "text/plain": [
       "torch.Size([1, 30])"
      ]
     },
     "execution_count": 12,
     "metadata": {},
     "output_type": "execute_result"
    }
   ],
   "source": [
    "tokenized2[\"token_type_ids\"].shape"
   ]
  },
  {
   "cell_type": "code",
   "execution_count": 17,
   "id": "469be1ceca462572",
   "metadata": {},
   "outputs": [
    {
     "name": "stderr",
     "output_type": "stream",
     "text": [
      "Device set to use cuda:0\n",
      "Setting `pad_token_id` to `eos_token_id`:50256 for open-end generation.\n"
     ]
    },
    {
     "name": "stdout",
     "output_type": "stream",
     "text": [
      ">>\n"
     ]
    },
    {
     "data": {
      "text/plain": [
       "'[CLS] voldemort was right all along! one of the most important [SEP] [PAD] [PAD] [PAD] [PAD] [PAD] [PAD] [PAD] [PAD] [PAD] [PAD] [PAD] [PAD] [PAD] [PAD] [PAD] [PAD] [PAD] [PAD] [PAD] [PAD] [PAD] [PAD] [PAD] [PAD] [PAD] [PAD] [PAD] [PAD] [PAD] [PAD] [PAD] [PAD] [PAD] [PAD] [PAD] [PAD] [PAD] [PAD] [PAD] [PAD] [PAD] [PAD] [PAD] [PAD] [PAD] [PAD] [PAD] [PAD] [PAD] [PAD] [PAD] [PAD] [PAD] [PAD] [PAD] [PAD] [PAD] [PAD] [PAD] [PAD] [PAD] [PAD] [PAD] [PAD] [PAD] [PAD] [PAD] [PAD] [PAD] [PAD] [PAD] [PAD] [PAD] [PAD] [PAD] [PAD] [PAD] [PAD] [PAD] [PAD] [PAD] [PAD] [PAD] [PAD] [PAD] [PAD] [PAD] [PAD] [PAD] [PAD] [PAD] [PAD] [PAD] [PAD] [PAD] [PAD] [PAD] [PAD] [PAD] [PAD] [PAD] [PAD] [PAD] [PAD] [PAD] [PAD] [PAD] [PAD] [PAD] [PAD] [PAD] [PAD] [PAD] [PAD] [PAD] [PAD] [PAD] [PAD] [PAD] [PAD] [PAD] [PAD] [PAD] [PAD] [PAD] [PAD] [PAD] [PAD] [PAD] [PAD] [PAD] [PAD] [PAD] [PAD] [PAD] [PAD] [PAD] [PAD] [PAD] [PAD] [PAD] [PAD] [PAD] [PAD] [PAD] [PAD] [PAD] [PAD] [PAD] [PAD] [PAD] [PAD] [PAD] [PAD] [PAD] [PAD] [PAD] [PAD] [PAD] [PAD] [PAD] [PAD] [PAD] [PAD] [PAD] [PAD] [PAD] [PAD] [PAD] [PAD] [PAD] [PAD] [PAD] [PAD] [PAD] [PAD] [PAD] [PAD] [PAD] [PAD] [PAD] [PAD] [PAD] [PAD] [PAD] [PAD] [PAD] [PAD] [PAD] [PAD] [PAD] [PAD] [PAD] [PAD] [PAD] [PAD] [PAD] [PAD] [PAD] [PAD] [PAD] [PAD] [PAD] [PAD] [PAD] [PAD] [PAD] [PAD] [PAD] [PAD] [PAD] [PAD] [PAD] [PAD] [PAD] [PAD] [PAD] [PAD] [PAD] [PAD] [PAD] [PAD] [PAD] [PAD] [PAD] [PAD] [PAD] [PAD] [PAD] [PAD] [PAD] [PAD] [PAD] [PAD] [PAD] [PAD] [PAD] [PAD] [PAD] [PAD] [PAD] [PAD] [PAD] [PAD] [PAD] [PAD] [PAD] [PAD] [PAD] [PAD] [PAD] [PAD] [PAD] [PAD] [PAD] [PAD] [PAD] [PAD] [PAD] [PAD] [PAD] [PAD] [PAD] [PAD] [PAD] [PAD] [PAD] [PAD] [PAD] [PAD] [PAD] [PAD] [PAD] [PAD] [PAD] [PAD] [PAD] [PAD] [PAD] [PAD] [PAD] [PAD] [PAD] [PAD] [PAD] [PAD] [PAD] [PAD] [PAD] [PAD] [PAD] [PAD] [PAD] [PAD] [PAD] [PAD] [PAD] [PAD] [PAD] [PAD] [PAD] [PAD] [PAD] [PAD] [PAD] [PAD] [PAD] [PAD] [PAD] [PAD] [PAD] [PAD] [PAD] [PAD] [PAD] [PAD] [PAD] [PAD] [PAD] [PAD] [PAD] [PAD] [PAD] [PAD] [PAD] [PAD] [PAD] [PAD] [PAD] [PAD] [PAD] [PAD] [PAD] [PAD] [PAD] [PAD] [PAD] [PAD] [PAD] [PAD] [PAD] [PAD] [PAD] [PAD] [PAD] [PAD] [PAD] [PAD] [PAD] [PAD] [PAD] [PAD] [PAD] [PAD] [PAD] [PAD] [PAD] [PAD] [PAD] [PAD] [PAD] [PAD] [PAD] [PAD] [PAD] [PAD] [PAD] [PAD] [PAD] [PAD] [PAD] [PAD] [PAD] [PAD] [PAD] [PAD] [PAD] [PAD] [PAD] [PAD] [PAD] [PAD] [PAD] [PAD] [PAD] [PAD] [PAD] [PAD] [PAD] [PAD] [PAD] [PAD] [PAD] [PAD] [PAD] [PAD] [PAD] [PAD] [PAD] [PAD] [PAD] [PAD] [PAD] [PAD] [PAD] [PAD] [PAD] [PAD] [PAD] [PAD] [PAD] [PAD] [PAD] [PAD] [PAD] [PAD] [PAD] [PAD] [PAD] [PAD] [PAD] [PAD] [PAD] [PAD] [PAD] [PAD] [PAD] [PAD] [PAD] [PAD] [PAD] [PAD] [PAD] [PAD] [PAD] [PAD] [PAD] [PAD] [PAD] [PAD] [PAD] [PAD] [PAD] [PAD] [PAD] [PAD] [PAD] [PAD] [PAD] [PAD] [PAD] [PAD] [PAD] [PAD] [PAD] [PAD] [PAD] [PAD] [PAD] [PAD] [PAD] [PAD] [PAD] [PAD] [PAD] [PAD] [PAD] [PAD] [PAD] [PAD] [PAD] [PAD] [PAD] [PAD] [PAD] [PAD] [PAD] [PAD] [PAD] [PAD] [PAD] [PAD] [PAD] [PAD] [PAD] [PAD] [PAD] [PAD] [PAD] [PAD] [PAD] [PAD] [PAD] [PAD] [PAD] [PAD]'"
      ]
     },
     "execution_count": 17,
     "metadata": {},
     "output_type": "execute_result"
    }
   ],
   "source": [
    "P_adv, trigger_slice, _ = initialize_p_adv(\n",
    "    mal_info=mal_info,\n",
    "    trigger_loc=\"suffix\",\n",
    "    trigger_len=trigger_len,\n",
    "    adv_passage_init=\"lm_gen\",\n",
    "    model=model,\n",
    ")\n",
    "P_adv = P_adv.to(\"cuda\")\n",
    "\n",
    "model.tokenizer.decode(P_adv[\"input_ids\"][0])"
   ]
  },
  {
   "cell_type": "markdown",
   "id": "2449f00b",
   "metadata": {},
   "source": [
    "'[CLS] voldemort was right all along! why would he have any real connection with voldemort!? it was rather impossible to make out [SEP] [PAD] [PAD]"
   ]
  },
  {
   "cell_type": "code",
   "execution_count": null,
   "id": "6af3a590665beb86",
   "metadata": {},
   "outputs": [
    {
     "data": {
      "image/png": "[encoded data removed]",
      "text/plain": [
       "<Figure size 1200x800 with 2 Axes>"
      ]
     },
     "metadata": {},
     "output_type": "display_data"
    },
    {
     "name": "stderr",
     "output_type": "stream",
     "text": [
      "Attacking with GASLITE...: 100%|██████████| 30/30 [03:42<00:00,  7.40s/it]\n"
     ]
    },
    {
     "name": "stdout",
     "output_type": "stream",
     "text": [
      "Loss\n",
      "\tloss             \t (min:    0.370, max:    0.518, cur:    0.513)\n"
     ]
    },
    {
     "name": "stderr",
     "output_type": "stream",
     "text": [
      "Embedding...: 100%|██████████| 1/1 [00:00<00:00, 210.59it/s]\n",
      "Calculating fluency scores...: 100%|██████████| 1/1 [00:00<00:00, 197.16it/s]\n",
      "Embedding...: 100%|██████████| 1/1 [00:00<00:00, 244.14it/s]\n"
     ]
    },
    {
     "name": "stdout",
     "output_type": "stream",
     "text": [
      "Final Monte Carlo Indexes [14, 11, 14, 11, 12, 12, 13, 15, 14, 14, 15, 13, 13, 14, 12, 14, 11, 14, 15, 11, 13, 13, 11, 15, 15, 12, 12, 11, 11, 11]\n"
     ]
    },
    {
     "ename": "KeyError",
     "evalue": "30",
     "output_type": "error",
     "traceback": [
      "\u001b[0;31m---------------------------------------------------------------------------\u001b[0m",
      "\u001b[0;31mKeyError\u001b[0m                                  Traceback (most recent call last)",
      "Cell \u001b[0;32mIn[18], line 2\u001b[0m\n\u001b[1;32m      1\u001b[0m \u001b[38;5;66;03m# Execute the attack\u001b[39;00m\n\u001b[0;32m----> 2\u001b[0m best_input_ids_dict, out_metrics \u001b[38;5;241m=\u001b[39m \u001b[43mgaslite_attack\u001b[49m\u001b[43m(\u001b[49m\n\u001b[1;32m      3\u001b[0m \u001b[43m    \u001b[49m\u001b[43mmodel\u001b[49m\u001b[38;5;241;43m=\u001b[39;49m\u001b[43mmodel\u001b[49m\u001b[43m,\u001b[49m\n\u001b[1;32m      4\u001b[0m \u001b[43m    \u001b[49m\u001b[38;5;66;43;03m# passage to craft:\u001b[39;49;00m\n\u001b[1;32m      5\u001b[0m \u001b[43m    \u001b[49m\u001b[43mtrigger_slice\u001b[49m\u001b[38;5;241;43m=\u001b[39;49m\u001b[43mtrigger_slice\u001b[49m\u001b[43m,\u001b[49m\n\u001b[1;32m      6\u001b[0m \u001b[43m    \u001b[49m\u001b[43minputs\u001b[49m\u001b[38;5;241;43m=\u001b[39;49m\u001b[43mP_adv\u001b[49m\u001b[43m,\u001b[49m\n\u001b[1;32m      7\u001b[0m \u001b[43m    \u001b[49m\u001b[43memb_targets\u001b[49m\u001b[38;5;241;43m=\u001b[39;49m\u001b[43memb_targets\u001b[49m\u001b[43m,\u001b[49m\n\u001b[1;32m      8\u001b[0m \u001b[43m    \u001b[49m\u001b[38;5;66;43;03m# Attack params:\u001b[39;49;00m\n\u001b[1;32m      9\u001b[0m \u001b[43m    \u001b[49m\u001b[43mn_iter\u001b[49m\u001b[38;5;241;43m=\u001b[39;49m\u001b[43mn_iter\u001b[49m\u001b[43m,\u001b[49m\u001b[43m  \u001b[49m\u001b[38;5;66;43;03m# TODO return n_iter\u001b[39;49;00m\n\u001b[1;32m     10\u001b[0m \u001b[43m    \u001b[49m\u001b[43mn_grad\u001b[49m\u001b[38;5;241;43m=\u001b[39;49m\u001b[43mn_grad\u001b[49m\u001b[43m,\u001b[49m\n\u001b[1;32m     11\u001b[0m \u001b[43m    \u001b[49m\u001b[43mbeam_search_config\u001b[49m\u001b[38;5;241;43m=\u001b[39;49m\u001b[38;5;28;43mdict\u001b[39;49m\u001b[43m(\u001b[49m\u001b[43mperform\u001b[49m\u001b[38;5;241;43m=\u001b[39;49m\u001b[38;5;28;43;01mTrue\u001b[39;49;00m\u001b[43m,\u001b[49m\u001b[43m \u001b[49m\u001b[43mn_cand\u001b[49m\u001b[38;5;241;43m=\u001b[39;49m\u001b[43mn_cand\u001b[49m\u001b[43m,\u001b[49m\u001b[43m \u001b[49m\u001b[43mn_flip\u001b[49m\u001b[38;5;241;43m=\u001b[39;49m\u001b[43mn_flip\u001b[49m\u001b[43m)\u001b[49m\u001b[43m,\u001b[49m\n\u001b[1;32m     12\u001b[0m \u001b[43m    \u001b[49m\u001b[43mtime_limit_in_seconds\u001b[49m\u001b[38;5;241;43m=\u001b[39;49m\u001b[43mtime_limit_in_seconds\u001b[49m\u001b[43m,\u001b[49m\n\u001b[1;32m     13\u001b[0m \u001b[43m    \u001b[49m\u001b[38;5;66;43;03m# Logging:\u001b[39;49;00m\n\u001b[1;32m     14\u001b[0m \u001b[43m    \u001b[49m\u001b[43mlog_to\u001b[49m\u001b[38;5;241;43m=\u001b[39;49m\u001b[38;5;124;43m\"\u001b[39;49m\u001b[38;5;124;43mlivelossplot\u001b[39;49m\u001b[38;5;124;43m\"\u001b[39;49m\u001b[43m,\u001b[49m\n\u001b[1;32m     15\u001b[0m \u001b[43m    \u001b[49m\u001b[43mchunk_robustness_method\u001b[49m\u001b[38;5;241;43m=\u001b[39;49m\u001b[38;5;124;43m\"\u001b[39;49m\u001b[38;5;124;43mmonte_carlo\u001b[39;49m\u001b[38;5;124;43m\"\u001b[39;49m\u001b[43m,\u001b[49m\n\u001b[1;32m     16\u001b[0m \u001b[43m    \u001b[49m\u001b[43mcheckpoint_every_n\u001b[49m\u001b[38;5;241;43m=\u001b[39;49m\u001b[38;5;241;43m50\u001b[39;49m\u001b[43m,\u001b[49m\n\u001b[1;32m     17\u001b[0m \u001b[43m)\u001b[49m\n\u001b[1;32m     18\u001b[0m \u001b[38;5;66;03m# best_input_ids[:, :50]\u001b[39;00m\n",
      "File \u001b[0;32m~/GASLITE/src/attacks/gaslite.py:624\u001b[0m, in \u001b[0;36mgaslite_attack\u001b[0;34m(model, inputs, trigger_slice, n_iter, n_flips_to_gen, evaluate_flips_on_strs, attack_variant, n_grad, k_candidates, backprop_batch_size, time_limit_in_seconds, beam_search_config, flu_alpha, flu_alpha_inc, fluency_model_name, l2_alpha, log_to, use_rephraser, n_sim_tokens_flips_to_gen, gradual_batch_optimization, perform_arca_opt, checkpoint_every_n, return_last, **kwargs)\u001b[0m\n\u001b[1;32m    621\u001b[0m \u001b[38;5;28;01mif\u001b[39;00m \u001b[38;5;129;01mnot\u001b[39;00m checkpoint_every_n:\n\u001b[1;32m    622\u001b[0m     best_input_ids_dict[n_iter] \u001b[38;5;241m=\u001b[39m best_input_ids\n\u001b[1;32m    623\u001b[0m \u001b[38;5;28;01mreturn\u001b[39;00m (\n\u001b[0;32m--> 624\u001b[0m     \u001b[43mbest_input_ids_dict\u001b[49m\u001b[43m[\u001b[49m\u001b[43mn_iter\u001b[49m\u001b[43m]\u001b[49m \u001b[38;5;28;01mif\u001b[39;00m return_last \u001b[38;5;28;01melse\u001b[39;00m best_input_ids_dict\n\u001b[1;32m    625\u001b[0m ), final_metrics\n",
      "\u001b[0;31mKeyError\u001b[0m: 30"
     ]
    }
   ],
   "source": [
    "# Execute the attack\n",
    "best_input_ids_dict, out_metrics = gaslite_attack(\n",
    "    model=model,\n",
    "    # passage to craft:\n",
    "    trigger_slice=trigger_slice,\n",
    "    inputs=P_adv,\n",
    "    emb_targets=emb_targets,\n",
    "    # Attack params:\n",
    "    n_iter=n_iter,  # TODO return n_iter\n",
    "    n_grad=n_grad,\n",
    "    beam_search_config=dict(perform=True, n_cand=n_cand, n_flip=n_flip),\n",
    "    time_limit_in_seconds=time_limit_in_seconds,\n",
    "    # Logging:\n",
    "    log_to=\"livelossplot\",\n",
    "    chunk_robustness_method=\"monte_carlo\",\n",
    "    # checkpoint_every_n=50,\n",
    ")\n",
    "# best_input_ids[:, :50]"
   ]
  },
  {
   "cell_type": "markdown",
   "id": "24cc9e15d6ae4b1d",
   "metadata": {},
   "source": [
    "## Craft the Adversarial Passage (w/ GASLITE)"
   ]
  },
  {
   "cell_type": "code",
   "execution_count": 32,
   "id": "12aac064264b1b2f",
   "metadata": {},
   "outputs": [
    {
     "name": "stdout",
     "output_type": "stream",
     "text": [
      "voldemort was right all along! middlesbrough cheshire played cedric actor\n"
     ]
    }
   ],
   "source": [
    "adv_passages = {}\n",
    "# for key, best_input_ids in best_input_ids_dict.items():\n",
    "adv_passages = model.tokenizer.decode(\n",
    "    best_input_ids_dict[0], skip_special_tokens=True, clean_up_tokenization_spaces=True\n",
    ")\n",
    "# adv_passage = model.tokenizer.decode(\n",
    "#     best_input_ids_list[-1:][0][0],\n",
    "#     skip_special_tokens=True,\n",
    "#     clean_up_tokenization_spaces=True,\n",
    "# )\n",
    "print(adv_passages)"
   ]
  }
 ],
 "metadata": {
  "kernelspec": {
   "display_name": "gaslite",
   "language": "python",
   "name": "python3"
  },
  "language_info": {
   "codemirror_mode": {
    "name": "ipython",
    "version": 3
   },
   "file_extension": ".py",
   "mimetype": "text/x-python",
   "name": "python",
   "nbconvert_exporter": "python",
   "pygments_lexer": "ipython3",
   "version": "3.13.1"
  }
 },
 "nbformat": 4,
 "nbformat_minor": 5
}
